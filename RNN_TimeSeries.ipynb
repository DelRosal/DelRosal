{
  "nbformat": 4,
  "nbformat_minor": 0,
  "metadata": {
    "colab": {
      "name": "RNN_TimeSeries",
      "provenance": [],
      "collapsed_sections": [],
      "authorship_tag": "ABX9TyN2DwQtrN/Iio1RuxAWT5kk",
      "include_colab_link": true
    },
    "kernelspec": {
      "name": "python3",
      "display_name": "Python 3"
    },
    "language_info": {
      "name": "python"
    }
  },
  "cells": [
    {
      "cell_type": "markdown",
      "metadata": {
        "id": "view-in-github",
        "colab_type": "text"
      },
      "source": [
        "<a href=\"https://colab.research.google.com/github/DelRosal/DelRosal/blob/main/RNN_TimeSeries.ipynb\" target=\"_parent\"><img src=\"https://colab.research.google.com/assets/colab-badge.svg\" alt=\"Open In Colab\"/></a>"
      ]
    },
    {
      "cell_type": "code",
      "execution_count": null,
      "metadata": {
        "id": "c8GrUtyhYx_1"
      },
      "outputs": [],
      "source": [
        "#LIBRARIES\n",
        "import tensorflow as tf\n",
        "import numpy as np\n",
        "import matplotlib.pyplot as plt"
      ]
    },
    {
      "cell_type": "code",
      "source": [
        "#FUNCTIONS\n",
        "def mk_plot(time, series, format=\"\", start=0, end=None):\n",
        "  plt.figure(figsize=(10,6))\n",
        "\n",
        "  if type(series) is tuple:\n",
        "    for num in series:\n",
        "      plt.plot(time[start:end], num[start:end], format)\n",
        "\n",
        "  else:\n",
        "    plt.plot(time[start:end],series[start:end], format)\n",
        "\n",
        "  plt.xlabel(\"Time\")\n",
        "  plt.ylabel(\"Value\")\n",
        "\n",
        "  plt.grid(True)\n",
        "  plt.show()\n",
        "\n",
        "def trend(time, slope):\n",
        "  series=time*slope\n",
        "  return series\n",
        "\n",
        "def seasonal_pattern(season_time):\n",
        "  pattern=np.where(season_time<0.4,\n",
        "                   np.cos(season_time*2*np.pi),\n",
        "                   1/np.exp(3*season_time))\n",
        "  return pattern\n",
        "\n",
        "def seasonality(time, period, amplitude=1, phase=0):\n",
        "  season_time=((time+phase)%period)/period\n",
        "  pattern=amplitude*seasonal_pattern(season_time)\n",
        "  return pattern\n",
        "\n",
        "def noise(time, noise_level=1, seed=None):\n",
        "  rnd=np.random.RandomState(seed)\n",
        "  noise=rnd.randn(len(time))*noise_level\n",
        "  return noise"
      ],
      "metadata": {
        "id": "L8-23zA_aIyd"
      },
      "execution_count": null,
      "outputs": []
    },
    {
      "cell_type": "code",
      "source": [
        "#PARAMETERS\n",
        "time=np.arange(4*365+1, dtype=\"float32\")\n",
        "baseline=10\n",
        "amplitude=40\n",
        "slope=0.5\n",
        "noise_level=5\n",
        "\n",
        "series=baseline+trend(time,slope)+seasonality(time,period=365,amplitude=amplitude)\n",
        "series += noise(time, noise_level, seed=42)\n",
        "\n",
        "mk_plot(time,series)"
      ],
      "metadata": {
        "colab": {
          "base_uri": "https://localhost:8080/",
          "height": 388
        },
        "id": "WPuwWgiAaQ7q",
        "outputId": "0a3c711c-f25a-49f9-e367-deded37dab10"
      },
      "execution_count": null,
      "outputs": [
        {
          "output_type": "display_data",
          "data": {
            "text/plain": [
              "<Figure size 720x432 with 1 Axes>"
            ],
            "image/png": "[encoded data removed]"
          },
          "metadata": {
            "needs_background": "light"
          }
        }
      ]
    },
    {
      "cell_type": "code",
      "source": [
        "#SPLIT DATASET\n",
        "\n",
        "split_time=1000\n",
        "\n",
        "time_train=time[:split_time]\n",
        "x_train=series[:split_time]\n",
        "\n",
        "time_valid=time[split_time:]\n",
        "x_valid=series[split_time:]"
      ],
      "metadata": {
        "id": "3e3JhAGwa9sq"
      },
      "execution_count": null,
      "outputs": []
    },
    {
      "cell_type": "code",
      "source": [
        "#WINDOW DATA\n",
        "\n",
        "window_size=20\n",
        "batch_size=32\n",
        "buffer_size=1000\n",
        "\n",
        "def windowed_data(series, window_size, batch_size,buffer_size):\n",
        "\n",
        "  data=tf.data.Dataset.from_tensor_slices(series)\n",
        "\n",
        "  data=data.window(window_size+1, shift=1, drop_remainder=True)\n",
        "\n",
        "  data=data.flat_map(lambda window: window.batch(window_size+1))\n",
        "\n",
        "  data=data.map(lambda window: (window[:-1], window[-1]))\n",
        "\n",
        "  data=data.shuffle(buffer_size)\n",
        "\n",
        "  data=data.batch(batch_size).prefetch(1)\n",
        "\n",
        "  return data"
      ],
      "metadata": {
        "id": "GdS2dtwScc1O"
      },
      "execution_count": null,
      "outputs": []
    },
    {
      "cell_type": "code",
      "source": [
        "dataset=windowed_data(x_train,window_size,batch_size,buffer_size)\n",
        "\n",
        "for window in dataset.take(1):\n",
        "  print(f'shape of feature: {window[0].shape}')\n",
        "  print(f'shape of label: {window[1].shape}')"
      ],
      "metadata": {
        "colab": {
          "base_uri": "https://localhost:8080/"
        },
        "id": "4q1dCK8Tewq2",
        "outputId": "e4591f96-c62d-4584-9cae-c953cbbcbaaf"
      },
      "execution_count": null,
      "outputs": [
        {
          "output_type": "stream",
          "name": "stdout",
          "text": [
            "shape of feature: (32, 20)\n",
            "shape of label: (32,)\n"
          ]
        }
      ]
    },
    {
      "cell_type": "code",
      "source": [
        "#MODEL\n",
        "\n",
        "model_tune=tf.keras.Sequential([\n",
        "                                tf.keras.layers.Lambda(lambda x: tf.expand_dims(x, axis=-1),\n",
        "                                                       input_shape=[window_size]),\n",
        "                                tf.keras.layers.SimpleRNN(40, return_sequences=True),\n",
        "                                tf.keras.layers.SimpleRNN(40),\n",
        "                                tf.keras.layers.Dense(1),\n",
        "                                tf.keras.layers.Lambda(lambda x: x*100.0)\n",
        "                              ])\n",
        "\n",
        "model_tune.summary()"
      ],
      "metadata": {
        "colab": {
          "base_uri": "https://localhost:8080/"
        },
        "id": "4eGhXUZEfNsF",
        "outputId": "d29f219d-ad55-405c-a7fc-eb0f0a5c9b44"
      },
      "execution_count": null,
      "outputs": [
        {
          "output_type": "stream",
          "name": "stdout",
          "text": [
            "Model: \"sequential_1\"\n",
            "_________________________________________________________________\n",
            " Layer (type)                Output Shape              Param #   \n",
            "=================================================================\n",
            " lambda_2 (Lambda)           (None, 20, 1)             0         \n",
            "                                                                 \n",
            " simple_rnn_2 (SimpleRNN)    (None, 20, 40)            1680      \n",
            "                                                                 \n",
            " simple_rnn_3 (SimpleRNN)    (None, 40)                3240      \n",
            "                                                                 \n",
            " dense_1 (Dense)             (None, 1)                 41        \n",
            "                                                                 \n",
            " lambda_3 (Lambda)           (None, 1)                 0         \n",
            "                                                                 \n",
            "=================================================================\n",
            "Total params: 4,961\n",
            "Trainable params: 4,961\n",
            "Non-trainable params: 0\n",
            "_________________________________________________________________\n"
          ]
        }
      ]
    },
    {
      "cell_type": "code",
      "source": [
        "#TRAIN MODEL\n",
        "\n",
        "lr_schedule=tf.keras.callbacks.LearningRateScheduler(lambda epoch: 1e-8 * 10**(epoch/20))\n",
        "\n",
        "optimizer=tf.keras.optimizers.SGD(momentum=0.9)\n",
        "loss=tf.keras.losses.Huber()\n",
        "\n",
        "model_tune.compile(loss=loss,\n",
        "                   optimizer=optimizer)\n",
        "\n",
        "history_tune=model_tune.fit(dataset,epochs=100,callbacks=[lr_schedule])"
      ],
      "metadata": {
        "colab": {
          "base_uri": "https://localhost:8080/"
        },
        "id": "sBrznNKuhzyI",
        "outputId": "7b20bf3d-40c6-46fa-e9cb-1f0d63766e0b"
      },
      "execution_count": null,
      "outputs": [
        {
          "output_type": "stream",
          "name": "stdout",
          "text": [
            "Epoch 1/100\n",
            "31/31 [==============================] - 2s 10ms/step - loss: 316.7991 - lr: 1.0000e-08\n",
            "Epoch 2/100\n",
            "31/31 [==============================] - 0s 9ms/step - loss: 315.0800 - lr: 1.1220e-08\n",
            "Epoch 3/100\n",
            "31/31 [==============================] - 0s 9ms/step - loss: 313.0003 - lr: 1.2589e-08\n",
            "Epoch 4/100\n",
            "31/31 [==============================] - 0s 9ms/step - loss: 310.6638 - lr: 1.4125e-08\n",
            "Epoch 5/100\n",
            "31/31 [==============================] - 0s 9ms/step - loss: 308.0453 - lr: 1.5849e-08\n",
            "Epoch 6/100\n",
            "31/31 [==============================] - 0s 9ms/step - loss: 305.1115 - lr: 1.7783e-08\n",
            "Epoch 7/100\n",
            "31/31 [==============================] - 0s 8ms/step - loss: 301.8246 - lr: 1.9953e-08\n",
            "Epoch 8/100\n",
            "31/31 [==============================] - 0s 9ms/step - loss: 298.1427 - lr: 2.2387e-08\n",
            "Epoch 9/100\n",
            "31/31 [==============================] - 0s 9ms/step - loss: 294.0191 - lr: 2.5119e-08\n",
            "Epoch 10/100\n",
            "31/31 [==============================] - 0s 10ms/step - loss: 289.4014 - lr: 2.8184e-08\n",
            "Epoch 11/100\n",
            "31/31 [==============================] - 0s 9ms/step - loss: 284.2319 - lr: 3.1623e-08\n",
            "Epoch 12/100\n",
            "31/31 [==============================] - 0s 9ms/step - loss: 278.4464 - lr: 3.5481e-08\n",
            "Epoch 13/100\n",
            "31/31 [==============================] - 0s 9ms/step - loss: 271.9741 - lr: 3.9811e-08\n",
            "Epoch 14/100\n",
            "31/31 [==============================] - 0s 9ms/step - loss: 264.7372 - lr: 4.4668e-08\n",
            "Epoch 15/100\n",
            "31/31 [==============================] - 0s 9ms/step - loss: 256.6500 - lr: 5.0119e-08\n",
            "Epoch 16/100\n",
            "31/31 [==============================] - 0s 10ms/step - loss: 247.6188 - lr: 5.6234e-08\n",
            "Epoch 17/100\n",
            "31/31 [==============================] - 0s 9ms/step - loss: 237.5379 - lr: 6.3096e-08\n",
            "Epoch 18/100\n",
            "31/31 [==============================] - 0s 9ms/step - loss: 226.3958 - lr: 7.0795e-08\n",
            "Epoch 19/100\n",
            "31/31 [==============================] - 0s 9ms/step - loss: 215.3517 - lr: 7.9433e-08\n",
            "Epoch 20/100\n",
            "31/31 [==============================] - 0s 9ms/step - loss: 206.1692 - lr: 8.9125e-08\n",
            "Epoch 21/100\n",
            "31/31 [==============================] - 0s 9ms/step - loss: 197.2681 - lr: 1.0000e-07\n",
            "Epoch 22/100\n",
            "31/31 [==============================] - 0s 9ms/step - loss: 187.3660 - lr: 1.1220e-07\n",
            "Epoch 23/100\n",
            "31/31 [==============================] - 0s 9ms/step - loss: 176.9915 - lr: 1.2589e-07\n",
            "Epoch 24/100\n",
            "31/31 [==============================] - 0s 9ms/step - loss: 167.1294 - lr: 1.4125e-07\n",
            "Epoch 25/100\n",
            "31/31 [==============================] - 0s 9ms/step - loss: 158.2401 - lr: 1.5849e-07\n",
            "Epoch 26/100\n",
            "31/31 [==============================] - 0s 9ms/step - loss: 150.4205 - lr: 1.7783e-07\n",
            "Epoch 27/100\n",
            "31/31 [==============================] - 0s 9ms/step - loss: 143.6986 - lr: 1.9953e-07\n",
            "Epoch 28/100\n",
            "31/31 [==============================] - 0s 9ms/step - loss: 138.1484 - lr: 2.2387e-07\n",
            "Epoch 29/100\n",
            "31/31 [==============================] - 0s 9ms/step - loss: 133.4753 - lr: 2.5119e-07\n",
            "Epoch 30/100\n",
            "31/31 [==============================] - 0s 9ms/step - loss: 128.5141 - lr: 2.8184e-07\n",
            "Epoch 31/100\n",
            "31/31 [==============================] - 0s 9ms/step - loss: 120.2150 - lr: 3.1623e-07\n",
            "Epoch 32/100\n",
            "31/31 [==============================] - 0s 9ms/step - loss: 108.7787 - lr: 3.5481e-07\n",
            "Epoch 33/100\n",
            "31/31 [==============================] - 0s 9ms/step - loss: 105.0097 - lr: 3.9811e-07\n",
            "Epoch 34/100\n",
            "31/31 [==============================] - 0s 9ms/step - loss: 102.0178 - lr: 4.4668e-07\n",
            "Epoch 35/100\n",
            "31/31 [==============================] - 0s 9ms/step - loss: 98.1987 - lr: 5.0119e-07\n",
            "Epoch 36/100\n",
            "31/31 [==============================] - 0s 9ms/step - loss: 95.7843 - lr: 5.6234e-07\n",
            "Epoch 37/100\n",
            "31/31 [==============================] - 0s 9ms/step - loss: 92.0911 - lr: 6.3096e-07\n",
            "Epoch 38/100\n",
            "31/31 [==============================] - 0s 9ms/step - loss: 87.1139 - lr: 7.0795e-07\n",
            "Epoch 39/100\n",
            "31/31 [==============================] - 0s 9ms/step - loss: 87.4712 - lr: 7.9433e-07\n",
            "Epoch 40/100\n",
            "31/31 [==============================] - 0s 9ms/step - loss: 92.9400 - lr: 8.9125e-07\n",
            "Epoch 41/100\n",
            "31/31 [==============================] - 0s 10ms/step - loss: 89.2308 - lr: 1.0000e-06\n",
            "Epoch 42/100\n",
            "31/31 [==============================] - 0s 10ms/step - loss: 126.1464 - lr: 1.1220e-06\n",
            "Epoch 43/100\n",
            "31/31 [==============================] - 0s 9ms/step - loss: 129.7037 - lr: 1.2589e-06\n",
            "Epoch 44/100\n",
            "31/31 [==============================] - 0s 9ms/step - loss: 122.4875 - lr: 1.4125e-06\n",
            "Epoch 45/100\n",
            "31/31 [==============================] - 0s 9ms/step - loss: 122.6666 - lr: 1.5849e-06\n",
            "Epoch 46/100\n",
            "31/31 [==============================] - 0s 10ms/step - loss: 122.4453 - lr: 1.7783e-06\n",
            "Epoch 47/100\n",
            "31/31 [==============================] - 0s 9ms/step - loss: 122.5445 - lr: 1.9953e-06\n",
            "Epoch 48/100\n",
            "31/31 [==============================] - 0s 9ms/step - loss: 122.5034 - lr: 2.2387e-06\n",
            "Epoch 49/100\n",
            "31/31 [==============================] - 0s 10ms/step - loss: 122.5590 - lr: 2.5119e-06\n",
            "Epoch 50/100\n",
            "31/31 [==============================] - 0s 9ms/step - loss: 122.5228 - lr: 2.8184e-06\n",
            "Epoch 51/100\n",
            "31/31 [==============================] - 0s 9ms/step - loss: 121.2091 - lr: 3.1623e-06\n",
            "Epoch 52/100\n",
            "31/31 [==============================] - 0s 9ms/step - loss: 122.5816 - lr: 3.5481e-06\n",
            "Epoch 53/100\n",
            "31/31 [==============================] - 0s 9ms/step - loss: 122.0474 - lr: 3.9811e-06\n",
            "Epoch 54/100\n",
            "31/31 [==============================] - 0s 9ms/step - loss: 122.2171 - lr: 4.4668e-06\n",
            "Epoch 55/100\n",
            "31/31 [==============================] - 0s 9ms/step - loss: 122.5653 - lr: 5.0119e-06\n",
            "Epoch 56/100\n",
            "31/31 [==============================] - 0s 9ms/step - loss: 122.5363 - lr: 5.6234e-06\n",
            "Epoch 57/100\n",
            "31/31 [==============================] - 0s 9ms/step - loss: 122.0998 - lr: 6.3096e-06\n",
            "Epoch 58/100\n",
            "31/31 [==============================] - 0s 10ms/step - loss: 123.5405 - lr: 7.0795e-06\n",
            "Epoch 59/100\n",
            "31/31 [==============================] - 0s 9ms/step - loss: 123.5469 - lr: 7.9433e-06\n",
            "Epoch 60/100\n",
            "31/31 [==============================] - 0s 9ms/step - loss: 121.8933 - lr: 8.9125e-06\n",
            "Epoch 61/100\n",
            "31/31 [==============================] - 0s 9ms/step - loss: 123.2236 - lr: 1.0000e-05\n",
            "Epoch 62/100\n",
            "31/31 [==============================] - 0s 9ms/step - loss: 123.0012 - lr: 1.1220e-05\n",
            "Epoch 63/100\n",
            "31/31 [==============================] - 0s 10ms/step - loss: 122.7486 - lr: 1.2589e-05\n",
            "Epoch 64/100\n",
            "31/31 [==============================] - 0s 9ms/step - loss: 123.2796 - lr: 1.4125e-05\n",
            "Epoch 65/100\n",
            "31/31 [==============================] - 0s 9ms/step - loss: 123.3480 - lr: 1.5849e-05\n",
            "Epoch 66/100\n",
            "31/31 [==============================] - 0s 9ms/step - loss: 122.7369 - lr: 1.7783e-05\n",
            "Epoch 67/100\n",
            "31/31 [==============================] - 0s 9ms/step - loss: 122.7528 - lr: 1.9953e-05\n",
            "Epoch 68/100\n",
            "31/31 [==============================] - 0s 9ms/step - loss: 123.9158 - lr: 2.2387e-05\n",
            "Epoch 69/100\n",
            "31/31 [==============================] - 0s 9ms/step - loss: 124.1936 - lr: 2.5119e-05\n",
            "Epoch 70/100\n",
            "31/31 [==============================] - 0s 9ms/step - loss: 123.0687 - lr: 2.8184e-05\n",
            "Epoch 71/100\n",
            "31/31 [==============================] - 0s 9ms/step - loss: 122.7632 - lr: 3.1623e-05\n",
            "Epoch 72/100\n",
            "31/31 [==============================] - 0s 9ms/step - loss: 123.3140 - lr: 3.5481e-05\n",
            "Epoch 73/100\n",
            "31/31 [==============================] - 0s 9ms/step - loss: 123.3290 - lr: 3.9811e-05\n",
            "Epoch 74/100\n",
            "31/31 [==============================] - 0s 9ms/step - loss: 123.6789 - lr: 4.4668e-05\n",
            "Epoch 75/100\n",
            "31/31 [==============================] - 0s 9ms/step - loss: 124.5365 - lr: 5.0119e-05\n",
            "Epoch 76/100\n",
            "31/31 [==============================] - 0s 9ms/step - loss: 127.4142 - lr: 5.6234e-05\n",
            "Epoch 77/100\n",
            "31/31 [==============================] - 0s 9ms/step - loss: 123.1819 - lr: 6.3096e-05\n",
            "Epoch 78/100\n",
            "31/31 [==============================] - 0s 9ms/step - loss: 122.8907 - lr: 7.0795e-05\n",
            "Epoch 79/100\n",
            "31/31 [==============================] - 0s 10ms/step - loss: 123.1377 - lr: 7.9433e-05\n",
            "Epoch 80/100\n",
            "31/31 [==============================] - 0s 9ms/step - loss: 123.5611 - lr: 8.9125e-05\n",
            "Epoch 81/100\n",
            "31/31 [==============================] - 0s 9ms/step - loss: 124.5248 - lr: 1.0000e-04\n",
            "Epoch 82/100\n",
            "31/31 [==============================] - 0s 9ms/step - loss: 123.8875 - lr: 1.1220e-04\n",
            "Epoch 83/100\n",
            "31/31 [==============================] - 0s 9ms/step - loss: 124.4010 - lr: 1.2589e-04\n",
            "Epoch 84/100\n",
            "31/31 [==============================] - 0s 9ms/step - loss: 125.4689 - lr: 1.4125e-04\n",
            "Epoch 85/100\n",
            "31/31 [==============================] - 0s 9ms/step - loss: 126.0943 - lr: 1.5849e-04\n",
            "Epoch 86/100\n",
            "31/31 [==============================] - 0s 9ms/step - loss: 127.7535 - lr: 1.7783e-04\n",
            "Epoch 87/100\n",
            "31/31 [==============================] - 0s 9ms/step - loss: 124.9562 - lr: 1.9953e-04\n",
            "Epoch 88/100\n",
            "31/31 [==============================] - 0s 9ms/step - loss: 122.9129 - lr: 2.2387e-04\n",
            "Epoch 89/100\n",
            "31/31 [==============================] - 0s 9ms/step - loss: 125.7655 - lr: 2.5119e-04\n",
            "Epoch 90/100\n",
            "31/31 [==============================] - 0s 10ms/step - loss: 126.4387 - lr: 2.8184e-04\n",
            "Epoch 91/100\n",
            "31/31 [==============================] - 0s 9ms/step - loss: 130.0810 - lr: 3.1623e-04\n",
            "Epoch 92/100\n",
            "31/31 [==============================] - 0s 9ms/step - loss: 126.3004 - lr: 3.5481e-04\n",
            "Epoch 93/100\n",
            "31/31 [==============================] - 0s 9ms/step - loss: 125.6149 - lr: 3.9811e-04\n",
            "Epoch 94/100\n",
            "31/31 [==============================] - 0s 9ms/step - loss: 124.2814 - lr: 4.4668e-04\n",
            "Epoch 95/100\n",
            "31/31 [==============================] - 0s 9ms/step - loss: 125.2225 - lr: 5.0119e-04\n",
            "Epoch 96/100\n",
            "31/31 [==============================] - 0s 9ms/step - loss: 127.8494 - lr: 5.6234e-04\n",
            "Epoch 97/100\n",
            "31/31 [==============================] - 0s 9ms/step - loss: 125.7814 - lr: 6.3096e-04\n",
            "Epoch 98/100\n",
            "31/31 [==============================] - 0s 9ms/step - loss: 123.6892 - lr: 7.0795e-04\n",
            "Epoch 99/100\n",
            "31/31 [==============================] - 0s 10ms/step - loss: 127.5643 - lr: 7.9433e-04\n",
            "Epoch 100/100\n",
            "31/31 [==============================] - 0s 9ms/step - loss: 138.2042 - lr: 8.9125e-04\n"
          ]
        }
      ]
    },
    {
      "cell_type": "code",
      "source": [
        "#LEARNING RATE\n",
        "\n",
        "lrs=1e-8 * (10**(np.arange(100)/20))\n",
        "\n",
        "plt.figure(figsize=(10,6))\n",
        "plt.grid(True)\n",
        "\n",
        "plt.semilogx(lrs, history_tune.history[\"loss\"])\n",
        "\n",
        "plt.tick_params('both', length=10, width=1, which='both')\n",
        "\n",
        "plt.axis([1e-8,1e-3,0,200])"
      ],
      "metadata": {
        "colab": {
          "base_uri": "https://localhost:8080/",
          "height": 406
        },
        "id": "9g574JTzi3PF",
        "outputId": "e408719b-eea5-46d9-db7b-c85134a0d432"
      },
      "execution_count": null,
      "outputs": [
        {
          "output_type": "execute_result",
          "data": {
            "text/plain": [
              "(1e-08, 0.001, 0.0, 200.0)"
            ]
          },
          "metadata": {},
          "execution_count": 45
        },
        {
          "output_type": "display_data",
          "data": {
            "text/plain": [
              "<Figure size 720x432 with 1 Axes>"
            ],
            "image/png": "[encoded data removed]"
          },
          "metadata": {
            "needs_background": "light"
          }
        }
      ]
    },
    {
      "cell_type": "code",
      "source": [
        "\n",
        "model_lr=tf.keras.Sequential([\n",
        "                                tf.keras.layers.Lambda(lambda x: tf.expand_dims(x, axis=-1),\n",
        "                                                       input_shape=[window_size]),\n",
        "                                tf.keras.layers.SimpleRNN(40, return_sequences=True),\n",
        "                                tf.keras.layers.SimpleRNN(40),\n",
        "                                tf.keras.layers.Dense(1),\n",
        "                                tf.keras.layers.Lambda(lambda x: x*100.0)\n",
        "                              ])\n",
        "\n",
        "model_lr.compile(loss=loss,\n",
        "                 optimizer=tf.keras.optimizers.SGD(learning_rate=6e-7, momentum=0.9),\n",
        "                 metrics=[\"mae\"])\n",
        "\n",
        "history_tune=model_tune.fit(dataset,epochs=100)"
      ],
      "metadata": {
        "colab": {
          "base_uri": "https://localhost:8080/"
        },
        "id": "MdNz_eYdl5hq",
        "outputId": "c99fc24a-7af6-4c8f-fde9-0b88fabf6820"
      },
      "execution_count": null,
      "outputs": [
        {
          "output_type": "stream",
          "name": "stdout",
          "text": [
            "Epoch 1/100\n",
            "31/31 [==============================] - 0s 10ms/step - loss: 141.5799\n",
            "Epoch 2/100\n",
            "31/31 [==============================] - 0s 9ms/step - loss: 142.9660\n",
            "Epoch 3/100\n",
            "31/31 [==============================] - 0s 8ms/step - loss: 173.1031\n",
            "Epoch 4/100\n",
            "31/31 [==============================] - 0s 9ms/step - loss: 154.6841\n",
            "Epoch 5/100\n",
            "31/31 [==============================] - 0s 9ms/step - loss: 155.1929\n",
            "Epoch 6/100\n",
            "31/31 [==============================] - 0s 10ms/step - loss: 166.5146\n",
            "Epoch 7/100\n",
            "31/31 [==============================] - 0s 9ms/step - loss: 134.5138\n",
            "Epoch 8/100\n",
            "31/31 [==============================] - 0s 10ms/step - loss: 149.0855\n",
            "Epoch 9/100\n",
            "31/31 [==============================] - 0s 9ms/step - loss: 162.8149\n",
            "Epoch 10/100\n",
            "31/31 [==============================] - 0s 9ms/step - loss: 187.9780\n",
            "Epoch 11/100\n",
            "31/31 [==============================] - 0s 9ms/step - loss: 151.3383\n",
            "Epoch 12/100\n",
            "31/31 [==============================] - 0s 9ms/step - loss: 151.8536\n",
            "Epoch 13/100\n",
            "31/31 [==============================] - 0s 9ms/step - loss: 181.5827\n",
            "Epoch 14/100\n",
            "31/31 [==============================] - 0s 9ms/step - loss: 194.7172\n",
            "Epoch 15/100\n",
            "31/31 [==============================] - 0s 9ms/step - loss: 174.1008\n",
            "Epoch 16/100\n",
            "31/31 [==============================] - 0s 9ms/step - loss: 153.9662\n",
            "Epoch 17/100\n",
            "31/31 [==============================] - 0s 9ms/step - loss: 137.9133\n",
            "Epoch 18/100\n",
            "31/31 [==============================] - 0s 10ms/step - loss: 163.2791\n",
            "Epoch 19/100\n",
            "31/31 [==============================] - 0s 9ms/step - loss: 146.4071\n",
            "Epoch 20/100\n",
            "31/31 [==============================] - 0s 9ms/step - loss: 175.7817\n",
            "Epoch 21/100\n",
            "31/31 [==============================] - 0s 9ms/step - loss: 182.5543\n",
            "Epoch 22/100\n",
            "31/31 [==============================] - 0s 9ms/step - loss: 161.6402\n",
            "Epoch 23/100\n",
            "31/31 [==============================] - 0s 9ms/step - loss: 142.2753\n",
            "Epoch 24/100\n",
            "31/31 [==============================] - 0s 9ms/step - loss: 161.6548\n",
            "Epoch 25/100\n",
            "31/31 [==============================] - 0s 9ms/step - loss: 144.6788\n",
            "Epoch 26/100\n",
            "31/31 [==============================] - 0s 9ms/step - loss: 130.9792\n",
            "Epoch 27/100\n",
            "31/31 [==============================] - 0s 9ms/step - loss: 175.8708\n",
            "Epoch 28/100\n",
            "31/31 [==============================] - 0s 9ms/step - loss: 139.0164\n",
            "Epoch 29/100\n",
            "31/31 [==============================] - 0s 10ms/step - loss: 150.5111\n",
            "Epoch 30/100\n",
            "31/31 [==============================] - 1s 14ms/step - loss: 136.9708\n",
            "Epoch 31/100\n",
            "31/31 [==============================] - 1s 14ms/step - loss: 182.8396\n",
            "Epoch 32/100\n",
            "31/31 [==============================] - 0s 9ms/step - loss: 156.5149\n",
            "Epoch 33/100\n",
            "31/31 [==============================] - 0s 9ms/step - loss: 150.5207\n",
            "Epoch 34/100\n",
            "31/31 [==============================] - 0s 9ms/step - loss: 159.8065\n",
            "Epoch 35/100\n",
            "31/31 [==============================] - 0s 9ms/step - loss: 157.9183\n",
            "Epoch 36/100\n",
            "31/31 [==============================] - 0s 9ms/step - loss: 136.4582\n",
            "Epoch 37/100\n",
            "31/31 [==============================] - 0s 9ms/step - loss: 132.8450\n",
            "Epoch 38/100\n",
            "31/31 [==============================] - 0s 9ms/step - loss: 131.3461\n",
            "Epoch 39/100\n",
            "31/31 [==============================] - 0s 9ms/step - loss: 164.2632\n",
            "Epoch 40/100\n",
            "31/31 [==============================] - 0s 9ms/step - loss: 175.6405\n",
            "Epoch 41/100\n",
            "31/31 [==============================] - 0s 9ms/step - loss: 143.4471\n",
            "Epoch 42/100\n",
            "31/31 [==============================] - 0s 9ms/step - loss: 125.7183\n",
            "Epoch 43/100\n",
            "31/31 [==============================] - 0s 9ms/step - loss: 139.8858\n",
            "Epoch 44/100\n",
            "31/31 [==============================] - 0s 9ms/step - loss: 131.6415\n",
            "Epoch 45/100\n",
            "31/31 [==============================] - 0s 10ms/step - loss: 144.2905\n",
            "Epoch 46/100\n",
            "31/31 [==============================] - 0s 9ms/step - loss: 148.1335\n",
            "Epoch 47/100\n",
            "31/31 [==============================] - 0s 10ms/step - loss: 138.6031\n",
            "Epoch 48/100\n",
            "31/31 [==============================] - 0s 9ms/step - loss: 145.9745\n",
            "Epoch 49/100\n",
            "31/31 [==============================] - 0s 9ms/step - loss: 129.0170\n",
            "Epoch 50/100\n",
            "31/31 [==============================] - 0s 9ms/step - loss: 152.6924\n",
            "Epoch 51/100\n",
            "31/31 [==============================] - 0s 9ms/step - loss: 187.9716\n",
            "Epoch 52/100\n",
            "31/31 [==============================] - 0s 9ms/step - loss: 153.0471\n",
            "Epoch 53/100\n",
            "31/31 [==============================] - 0s 9ms/step - loss: 137.1450\n",
            "Epoch 54/100\n",
            "31/31 [==============================] - 0s 10ms/step - loss: 128.8321\n",
            "Epoch 55/100\n",
            "31/31 [==============================] - 0s 10ms/step - loss: 145.2760\n",
            "Epoch 56/100\n",
            "31/31 [==============================] - 0s 10ms/step - loss: 145.2201\n",
            "Epoch 57/100\n",
            "31/31 [==============================] - 0s 10ms/step - loss: 151.3607\n",
            "Epoch 58/100\n",
            "31/31 [==============================] - 0s 10ms/step - loss: 151.5751\n",
            "Epoch 59/100\n",
            "31/31 [==============================] - 0s 9ms/step - loss: 148.9774\n",
            "Epoch 60/100\n",
            "31/31 [==============================] - 0s 9ms/step - loss: 169.2880\n",
            "Epoch 61/100\n",
            "31/31 [==============================] - 0s 9ms/step - loss: 141.9023\n",
            "Epoch 62/100\n",
            "31/31 [==============================] - 0s 10ms/step - loss: 143.9927\n",
            "Epoch 63/100\n",
            "31/31 [==============================] - 0s 9ms/step - loss: 146.1453\n",
            "Epoch 64/100\n",
            "31/31 [==============================] - 0s 9ms/step - loss: 150.2982\n",
            "Epoch 65/100\n",
            "31/31 [==============================] - 0s 9ms/step - loss: 137.1021\n",
            "Epoch 66/100\n",
            "31/31 [==============================] - 0s 9ms/step - loss: 148.2892\n",
            "Epoch 67/100\n",
            "31/31 [==============================] - 0s 9ms/step - loss: 142.5071\n",
            "Epoch 68/100\n",
            "31/31 [==============================] - 0s 9ms/step - loss: 156.7614\n",
            "Epoch 69/100\n",
            "31/31 [==============================] - 0s 9ms/step - loss: 153.0263\n",
            "Epoch 70/100\n",
            "31/31 [==============================] - 0s 9ms/step - loss: 139.0387\n",
            "Epoch 71/100\n",
            "31/31 [==============================] - 0s 10ms/step - loss: 158.5165\n",
            "Epoch 72/100\n",
            "31/31 [==============================] - 0s 9ms/step - loss: 147.1093\n",
            "Epoch 73/100\n",
            "31/31 [==============================] - 0s 9ms/step - loss: 140.0537\n",
            "Epoch 74/100\n",
            "31/31 [==============================] - 0s 9ms/step - loss: 146.4326\n",
            "Epoch 75/100\n",
            "31/31 [==============================] - 0s 9ms/step - loss: 159.9328\n",
            "Epoch 76/100\n",
            "31/31 [==============================] - 0s 9ms/step - loss: 154.5118\n",
            "Epoch 77/100\n",
            "31/31 [==============================] - 0s 9ms/step - loss: 135.1015\n",
            "Epoch 78/100\n",
            "31/31 [==============================] - 0s 9ms/step - loss: 148.7927\n",
            "Epoch 79/100\n",
            "31/31 [==============================] - 0s 9ms/step - loss: 137.5834\n",
            "Epoch 80/100\n",
            "31/31 [==============================] - 0s 9ms/step - loss: 166.4944\n",
            "Epoch 81/100\n",
            "31/31 [==============================] - 0s 9ms/step - loss: 155.4220\n",
            "Epoch 82/100\n",
            "31/31 [==============================] - 0s 9ms/step - loss: 157.5570\n",
            "Epoch 83/100\n",
            "31/31 [==============================] - 0s 10ms/step - loss: 142.1593\n",
            "Epoch 84/100\n",
            "31/31 [==============================] - 0s 9ms/step - loss: 154.0243\n",
            "Epoch 85/100\n",
            "31/31 [==============================] - 0s 9ms/step - loss: 133.0798\n",
            "Epoch 86/100\n",
            "31/31 [==============================] - 0s 9ms/step - loss: 129.2898\n",
            "Epoch 87/100\n",
            "31/31 [==============================] - 0s 9ms/step - loss: 139.0307\n",
            "Epoch 88/100\n",
            "31/31 [==============================] - 0s 9ms/step - loss: 137.5466\n",
            "Epoch 89/100\n",
            "31/31 [==============================] - 0s 9ms/step - loss: 143.1018\n",
            "Epoch 90/100\n",
            "31/31 [==============================] - 0s 9ms/step - loss: 135.0961\n",
            "Epoch 91/100\n",
            "31/31 [==============================] - 0s 9ms/step - loss: 139.9851\n",
            "Epoch 92/100\n",
            "31/31 [==============================] - 0s 10ms/step - loss: 147.6906\n",
            "Epoch 93/100\n",
            "31/31 [==============================] - 0s 10ms/step - loss: 133.3599\n",
            "Epoch 94/100\n",
            "31/31 [==============================] - 0s 9ms/step - loss: 150.4691\n",
            "Epoch 95/100\n",
            "31/31 [==============================] - 0s 9ms/step - loss: 136.4401\n",
            "Epoch 96/100\n",
            "31/31 [==============================] - 0s 9ms/step - loss: 139.4603\n",
            "Epoch 97/100\n",
            "31/31 [==============================] - 0s 10ms/step - loss: 146.9374\n",
            "Epoch 98/100\n",
            "31/31 [==============================] - 0s 9ms/step - loss: 144.9135\n",
            "Epoch 99/100\n",
            "31/31 [==============================] - 0s 10ms/step - loss: 129.3153\n",
            "Epoch 100/100\n",
            "31/31 [==============================] - 0s 9ms/step - loss: 170.7148\n"
          ]
        }
      ]
    },
    {
      "cell_type": "code",
      "source": [
        "#MODEL PREDICTION\n",
        "\n",
        "forecast=[]\n",
        "\n",
        "forecast_series=series[split_time-window_size:]\n",
        "\n",
        "for time in range(len(forecast_series)-window_size):\n",
        "  forecast.append(model_lr.predict(forecast_series[time:time+window_size][np.newaxis]))\n",
        "\n",
        "results=np.array(forecast).squeeze()\n",
        "\n",
        "mk_plot(time_valid,(x_valid,results))\n",
        "                  "
      ],
      "metadata": {
        "colab": {
          "base_uri": "https://localhost:8080/",
          "height": 388
        },
        "id": "LPv3YOfLmire",
        "outputId": "c04ad2a4-6361-4cc5-8341-29c5cf45bd3e"
      },
      "execution_count": null,
      "outputs": [
        {
          "output_type": "display_data",
          "data": {
            "text/plain": [
              "<Figure size 720x432 with 1 Axes>"
            ],
            "image/png": "[encoded data removed]"
          },
          "metadata": {
            "needs_background": "light"
          }
        }
      ]
    },
    {
      "cell_type": "code",
      "source": [
        "#MODEL FORECAST\n",
        "\n",
        "def model_forecast(model, series, window_size, batch_size):\n",
        "\n",
        "  data=tf.data.Dataset.from_tensor_slices(series)\n",
        "  data=data.window(window_size, shift=1, drop_remainder=True)\n",
        "  data=data.flat_map(lambda w: w.batch(window_size))\n",
        "  data=data.map(lambda w: (w[:-1], w[-1]))\n",
        "\n",
        "  data=data.batch(batch_size).prefetch(1)\n",
        "\n",
        "  forecast=model.predict(data)\n",
        "\n",
        "  return forecast"
      ],
      "metadata": {
        "id": "JqgXYD8Ns2m7"
      },
      "execution_count": null,
      "outputs": []
    },
    {
      "cell_type": "code",
      "source": [
        "#RESULTS\n",
        "\n",
        "forecast_series=series[split_time-window_size:-1]\n",
        "forecast=model_forecast(model_lr, forecast_series, window_size, batch_size)\n",
        "\n",
        "results=forecast.squeeze()\n",
        "\n",
        "print(tf.keras.metrics.mean_squared_error(x_valid, results).numpy())\n",
        "print(tf.keras.metrics.mean_absolute_error(x_valid, results).numpy())\n",
        "\n",
        "mk_plot(time_valid, (x_valid, results))"
      ],
      "metadata": {
        "colab": {
          "base_uri": "https://localhost:8080/",
          "height": 424
        },
        "id": "6Q1CxRrxuNQT",
        "outputId": "612d588b-5a68-430c-82b3-b36d409e0364"
      },
      "execution_count": null,
      "outputs": [
        {
          "output_type": "stream",
          "name": "stdout",
          "text": [
            "439994.4\n",
            "660.1383\n"
          ]
        },
        {
          "output_type": "display_data",
          "data": {
            "text/plain": [
              "<Figure size 720x432 with 1 Axes>"
            ],
            "image/png": "[encoded data removed]"
          },
          "metadata": {
            "needs_background": "light"
          }
        }
      ]
    }
  ]
}