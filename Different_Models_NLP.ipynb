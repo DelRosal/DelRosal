{
  "nbformat": 4,
  "nbformat_minor": 0,
  "metadata": {
    "colab": {
      "name": "Different_Models_NLP",
      "provenance": [],
      "collapsed_sections": [],
      "authorship_tag": "ABX9TyN1Ok+6Vkqz2v0CpOKPnLzT",
      "include_colab_link": true
    },
    "kernelspec": {
      "name": "python3",
      "display_name": "Python 3"
    },
    "language_info": {
      "name": "python"
    }
  },
  "cells": [
    {
      "cell_type": "markdown",
      "metadata": {
        "id": "view-in-github",
        "colab_type": "text"
      },
      "source": [
        "<a href=\"https://colab.research.google.com/github/DelRosal/DelRosal/blob/main/Different_Models_NLP.ipynb\" target=\"_parent\"><img src=\"https://colab.research.google.com/assets/colab-badge.svg\" alt=\"Open In Colab\"/></a>"
      ]
    },
    {
      "cell_type": "markdown",
      "source": [
        "**This code was made as an exercise from the Tensorflow Natural Language Processing Course and TensorFlow AI Developer Profesional Certification**"
      ],
      "metadata": {
        "id": "al1HI_B8v8dJ"
      }
    },
    {
      "cell_type": "code",
      "execution_count": null,
      "metadata": {
        "id": "YlTPbJVw2e6B"
      },
      "outputs": [],
      "source": [
        "#LIBRARIES\n",
        "import tensorflow_datasets as tfds\n",
        "import tensorflow as tf\n",
        "import matplotlib.pyplot as plt\n",
        "import numpy as np\n",
        "\n",
        "from tensorflow.keras.preprocessing.text import Tokenizer\n",
        "from tensorflow.keras.preprocessing.sequence import pad_sequences"
      ]
    },
    {
      "cell_type": "code",
      "source": [
        "#DOWNLOAD AND PREPARE DATASET\n",
        "\n",
        "imdb, info= tfds.load(\"imdb_reviews\", with_info=True, as_supervised=True)\n",
        "\n",
        "train_data, test_data= imdb[\"train\"], imdb[\"test\"]\n",
        "\n",
        "#Training\n",
        "train_sentences=[]\n",
        "train_labels=[]\n",
        "\n",
        "for sen, lab in train_data:\n",
        "  train_sentences.append(sen.numpy().decode(\"utf8\"))\n",
        "  train_labels.append(lab.numpy())\n",
        "\n",
        "#Testing\n",
        "test_sentences=[]\n",
        "test_labels=[]\n",
        "\n",
        "for sen, lab in test_data:\n",
        "  test_sentences.append(sen.numpy().decode(\"utf8\"))\n",
        "  test_labels.append(lab.numpy())\n",
        "\n",
        "train_labels_final=np.array(train_labels)\n",
        "test_labels_final=np.array(test_labels)"
      ],
      "metadata": {
        "id": "NbGmyGXp2-kL"
      },
      "execution_count": null,
      "outputs": []
    },
    {
      "cell_type": "code",
      "source": [
        "#TOKENIZER AND PADDING \n",
        "\n",
        "#Parameters\n",
        "vocab_size=10000\n",
        "max_length=120\n",
        "trunc=\"post\"\n",
        "oov_token=\"<OOV>\"\n",
        "\n",
        "#Tokenizer\n",
        "tokenizer=Tokenizer(num_words=vocab_size, oov_token=oov_token)\n",
        "tokenizer.fit_on_texts(train_sentences)\n",
        "\n",
        "word_index=tokenizer.word_index\n",
        "\n",
        "#Padding\n",
        "train_sequences=tokenizer.texts_to_sequences(train_sentences)\n",
        "padded=pad_sequences(train_sequences, maxlen=max_length, truncating=trunc)\n",
        "\n",
        "test_sequences=tokenizer.texts_to_sequences(test_sentences)\n",
        "test_padded=pad_sequences(test_sequences, maxlen=max_length, truncating=trunc)\n"
      ],
      "metadata": {
        "id": "d7gSPwsS4DBO"
      },
      "execution_count": null,
      "outputs": []
    },
    {
      "cell_type": "code",
      "source": [
        "#PLOT FUNCTION\n",
        "\n",
        "def create_plot(history, sub):\n",
        "  plt.plot(history.history[sub])\n",
        "  plt.plot(history.history[\"val_\"+sub])\n",
        "\n",
        "  plt.xlabel(\"Epochs\")\n",
        "  plt.ylabel(sub)\n",
        "\n",
        "  plt.legend([sub, \"val_\"+sub])\n",
        "  plt.show()"
      ],
      "metadata": {
        "id": "UJBCIZnr5GRE"
      },
      "execution_count": null,
      "outputs": []
    },
    {
      "cell_type": "markdown",
      "source": [
        "FLATTEN MODEL"
      ],
      "metadata": {
        "id": "yuFPbda65Ycp"
      }
    },
    {
      "cell_type": "code",
      "source": [
        "#PARAMETERS\n",
        "embedding=16\n",
        "\n",
        "model_flatten=tf.keras.Sequential([\n",
        "                           tf.keras.layers.Embedding(vocab_size,embedding,input_length=max_length),\n",
        "                           tf.keras.layers.Flatten(),\n",
        "                           tf.keras.layers.Dense(6, activation=\"relu\"),\n",
        "                           tf.keras.layers.Dense(1, activation=\"sigmoid\")])\n",
        "\n",
        "model_flatten.compile(loss=\"binary_crossentropy\",\n",
        "              optimizer=\"adam\",\n",
        "              metrics=[\"accuracy\"])\n",
        "\n",
        "model_flatten.summary()"
      ],
      "metadata": {
        "colab": {
          "base_uri": "https://localhost:8080/"
        },
        "id": "7-qmyQZX5iHi",
        "outputId": "046e7567-82a6-4398-fd17-4a6912eb82aa"
      },
      "execution_count": null,
      "outputs": [
        {
          "output_type": "stream",
          "name": "stdout",
          "text": [
            "Model: \"sequential_1\"\n",
            "_________________________________________________________________\n",
            " Layer (type)                Output Shape              Param #   \n",
            "=================================================================\n",
            " embedding_1 (Embedding)     (None, 120, 16)           160000    \n",
            "                                                                 \n",
            " flatten_1 (Flatten)         (None, 1920)              0         \n",
            "                                                                 \n",
            " dense_2 (Dense)             (None, 6)                 11526     \n",
            "                                                                 \n",
            " dense_3 (Dense)             (None, 1)                 7         \n",
            "                                                                 \n",
            "=================================================================\n",
            "Total params: 171,533\n",
            "Trainable params: 171,533\n",
            "Non-trainable params: 0\n",
            "_________________________________________________________________\n"
          ]
        }
      ]
    },
    {
      "cell_type": "code",
      "source": [
        "history_flatten=model_flatten.fit(padded,train_labels_final, batch_size= 128, epochs=10, validation_data=(test_padded,test_labels_final))"
      ],
      "metadata": {
        "colab": {
          "base_uri": "https://localhost:8080/"
        },
        "id": "6Ux-f-3x6G4U",
        "outputId": "ba47e9af-9a22-4dc0-ca22-27f909054fa0"
      },
      "execution_count": null,
      "outputs": [
        {
          "output_type": "stream",
          "name": "stdout",
          "text": [
            "Epoch 1/10\n",
            "196/196 [==============================] - 3s 12ms/step - loss: 0.6322 - accuracy: 0.6441 - val_loss: 0.4435 - val_accuracy: 0.8062\n",
            "Epoch 2/10\n",
            "196/196 [==============================] - 2s 11ms/step - loss: 0.3323 - accuracy: 0.8624 - val_loss: 0.3706 - val_accuracy: 0.8354\n",
            "Epoch 3/10\n",
            "196/196 [==============================] - 2s 11ms/step - loss: 0.2193 - accuracy: 0.9190 - val_loss: 0.3964 - val_accuracy: 0.8254\n",
            "Epoch 4/10\n",
            "196/196 [==============================] - 2s 11ms/step - loss: 0.1388 - accuracy: 0.9588 - val_loss: 0.4335 - val_accuracy: 0.8211\n",
            "Epoch 5/10\n",
            "196/196 [==============================] - 2s 10ms/step - loss: 0.0742 - accuracy: 0.9855 - val_loss: 0.4966 - val_accuracy: 0.8141\n",
            "Epoch 6/10\n",
            "196/196 [==============================] - 2s 10ms/step - loss: 0.0353 - accuracy: 0.9964 - val_loss: 0.5470 - val_accuracy: 0.8134\n",
            "Epoch 7/10\n",
            "196/196 [==============================] - 2s 10ms/step - loss: 0.0174 - accuracy: 0.9988 - val_loss: 0.5910 - val_accuracy: 0.8119\n",
            "Epoch 8/10\n",
            "196/196 [==============================] - 2s 10ms/step - loss: 0.0100 - accuracy: 0.9995 - val_loss: 0.6388 - val_accuracy: 0.8102\n",
            "Epoch 9/10\n",
            "196/196 [==============================] - 2s 11ms/step - loss: 0.0057 - accuracy: 0.9998 - val_loss: 0.6721 - val_accuracy: 0.8096\n",
            "Epoch 10/10\n",
            "196/196 [==============================] - 2s 11ms/step - loss: 0.0038 - accuracy: 0.9999 - val_loss: 0.6980 - val_accuracy: 0.8114\n"
          ]
        }
      ]
    },
    {
      "cell_type": "code",
      "source": [
        "create_plot(history_flatten, \"accuracy\")"
      ],
      "metadata": {
        "colab": {
          "base_uri": "https://localhost:8080/",
          "height": 279
        },
        "id": "l760MBTh6jKw",
        "outputId": "e563e292-f9f1-43f4-ebeb-ae9943ba8800"
      },
      "execution_count": null,
      "outputs": [
        {
          "output_type": "display_data",
          "data": {
            "text/plain": [
              "<Figure size 432x288 with 1 Axes>"
            ],
            "image/png": "[encoded data removed]"
          },
          "metadata": {
            "needs_background": "light"
          }
        }
      ]
    },
    {
      "cell_type": "code",
      "source": [
        "create_plot(history_flatten,\"loss\")"
      ],
      "metadata": {
        "colab": {
          "base_uri": "https://localhost:8080/",
          "height": 279
        },
        "id": "tldk0kJ16jVX",
        "outputId": "09440c67-b7b7-40cc-a0ff-e07244662da2"
      },
      "execution_count": null,
      "outputs": [
        {
          "output_type": "display_data",
          "data": {
            "text/plain": [
              "<Figure size 432x288 with 1 Axes>"
            ],
            "image/png": "[encoded data removed]"
          },
          "metadata": {
            "needs_background": "light"
          }
        }
      ]
    },
    {
      "cell_type": "markdown",
      "source": [
        "LSTM MODEL"
      ],
      "metadata": {
        "id": "t-aueqLM5Z5J"
      }
    },
    {
      "cell_type": "code",
      "source": [
        "#PARAMETERS\n",
        "embedding2=16\n",
        "lstm=32\n",
        "\n",
        "model_lstm=tf.keras.Sequential([\n",
        "                                tf.keras.layers.Embedding(vocab_size, embedding2, input_length=max_length),\n",
        "                                tf.keras.layers.Bidirectional(tf.keras.layers.LSTM(lstm)),\n",
        "                                tf.keras.layers.Dense(6, activation=\"relu\"),\n",
        "                                tf.keras.layers.Dense(1, activation=\"sigmoid\")])\n",
        "\n",
        "model_lstm.compile(loss=\"binary_crossentropy\",\n",
        "                   optimizer=\"adam\",\n",
        "                   metrics=[\"accuracy\"])\n",
        "\n",
        "model_lstm.summary()"
      ],
      "metadata": {
        "colab": {
          "base_uri": "https://localhost:8080/"
        },
        "id": "CVcnzZWV6hVv",
        "outputId": "47ed166a-78c2-4f8d-e9d0-17a2f0856479"
      },
      "execution_count": null,
      "outputs": [
        {
          "output_type": "stream",
          "name": "stdout",
          "text": [
            "Model: \"sequential_2\"\n",
            "_________________________________________________________________\n",
            " Layer (type)                Output Shape              Param #   \n",
            "=================================================================\n",
            " embedding_3 (Embedding)     (None, 120, 16)           160000    \n",
            "                                                                 \n",
            " bidirectional (Bidirectiona  (None, 64)               12544     \n",
            " l)                                                              \n",
            "                                                                 \n",
            " dense_4 (Dense)             (None, 6)                 390       \n",
            "                                                                 \n",
            " dense_5 (Dense)             (None, 1)                 7         \n",
            "                                                                 \n",
            "=================================================================\n",
            "Total params: 172,941\n",
            "Trainable params: 172,941\n",
            "Non-trainable params: 0\n",
            "_________________________________________________________________\n"
          ]
        }
      ]
    },
    {
      "cell_type": "code",
      "source": [
        "history_lstm=model_lstm.fit(padded,train_labels_final, batch_size=128, epochs=10, validation_data=(test_padded,test_labels_final))"
      ],
      "metadata": {
        "colab": {
          "base_uri": "https://localhost:8080/"
        },
        "id": "zLjrbo6H7s4Z",
        "outputId": "ec1f6dcb-ddd4-4cfa-a167-03ef2b24a149"
      },
      "execution_count": null,
      "outputs": [
        {
          "output_type": "stream",
          "name": "stdout",
          "text": [
            "Epoch 1/10\n",
            "196/196 [==============================] - 38s 171ms/step - loss: 0.5497 - accuracy: 0.6995 - val_loss: 0.4128 - val_accuracy: 0.8209\n",
            "Epoch 2/10\n",
            "196/196 [==============================] - 33s 167ms/step - loss: 0.3147 - accuracy: 0.8733 - val_loss: 0.3891 - val_accuracy: 0.8294\n",
            "Epoch 3/10\n",
            "196/196 [==============================] - 34s 172ms/step - loss: 0.2528 - accuracy: 0.9024 - val_loss: 0.4268 - val_accuracy: 0.8107\n",
            "Epoch 4/10\n",
            "196/196 [==============================] - 33s 169ms/step - loss: 0.2132 - accuracy: 0.9209 - val_loss: 0.4441 - val_accuracy: 0.8180\n",
            "Epoch 5/10\n",
            "196/196 [==============================] - 33s 170ms/step - loss: 0.1856 - accuracy: 0.9358 - val_loss: 0.4700 - val_accuracy: 0.8150\n",
            "Epoch 6/10\n",
            "196/196 [==============================] - 33s 170ms/step - loss: 0.1639 - accuracy: 0.9458 - val_loss: 0.5269 - val_accuracy: 0.8063\n",
            "Epoch 7/10\n",
            "196/196 [==============================] - 34s 174ms/step - loss: 0.1411 - accuracy: 0.9540 - val_loss: 0.6414 - val_accuracy: 0.8012\n",
            "Epoch 8/10\n",
            "196/196 [==============================] - 34s 171ms/step - loss: 0.1249 - accuracy: 0.9606 - val_loss: 0.6369 - val_accuracy: 0.7990\n",
            "Epoch 9/10\n",
            "196/196 [==============================] - 33s 171ms/step - loss: 0.1125 - accuracy: 0.9653 - val_loss: 0.6823 - val_accuracy: 0.7990\n",
            "Epoch 10/10\n",
            "196/196 [==============================] - 34s 174ms/step - loss: 0.1019 - accuracy: 0.9705 - val_loss: 0.6917 - val_accuracy: 0.7974\n"
          ]
        }
      ]
    },
    {
      "cell_type": "code",
      "source": [
        "create_plot(history_lstm,\"accuracy\")"
      ],
      "metadata": {
        "colab": {
          "base_uri": "https://localhost:8080/",
          "height": 279
        },
        "id": "QCiHRdAc75w8",
        "outputId": "98551574-d572-479f-97f0-c0056c347796"
      },
      "execution_count": null,
      "outputs": [
        {
          "output_type": "display_data",
          "data": {
            "text/plain": [
              "<Figure size 432x288 with 1 Axes>"
            ],
            "image/png": "[encoded data removed]"
          },
          "metadata": {
            "needs_background": "light"
          }
        }
      ]
    },
    {
      "cell_type": "code",
      "source": [
        "create_plot(history_lstm,\"loss\")"
      ],
      "metadata": {
        "colab": {
          "base_uri": "https://localhost:8080/",
          "height": 279
        },
        "id": "VTyb8NUt8AVS",
        "outputId": "12279824-017d-43a3-a9bd-dcd0c39c883f"
      },
      "execution_count": null,
      "outputs": [
        {
          "output_type": "display_data",
          "data": {
            "text/plain": [
              "<Figure size 432x288 with 1 Axes>"
            ],
            "image/png": "[encoded data removed]"
          },
          "metadata": {
            "needs_background": "light"
          }
        }
      ]
    },
    {
      "cell_type": "markdown",
      "source": [
        "GRU MODEL"
      ],
      "metadata": {
        "id": "gKg8pOoy5ctu"
      }
    },
    {
      "cell_type": "code",
      "source": [
        "#PARAMETERS\n",
        "embedding3=16\n",
        "gru=32\n",
        "\n",
        "model_gru=tf.keras.Sequential([\n",
        "                               tf.keras.layers.Embedding(vocab_size, embedding3, input_length=max_length),\n",
        "                               tf.keras.layers.Bidirectional(tf.keras.layers.GRU(gru)),\n",
        "                               tf.keras.layers.Dense(6, activation=\"relu\"),\n",
        "                               tf.keras.layers.Dense(1, activation=\"sigmoid\")])\n",
        "\n",
        "model_gru.compile(loss=\"binary_crossentropy\",\n",
        "                  optimizer=\"adam\",\n",
        "                  metrics=[\"accuracy\"])\n",
        "\n",
        "model_gru.summary()\n"
      ],
      "metadata": {
        "colab": {
          "base_uri": "https://localhost:8080/"
        },
        "id": "UtuiW2328KAp",
        "outputId": "16cacab8-fae9-4c1f-ca7d-5cc4f427b0f6"
      },
      "execution_count": null,
      "outputs": [
        {
          "output_type": "stream",
          "name": "stdout",
          "text": [
            "Model: \"sequential_3\"\n",
            "_________________________________________________________________\n",
            " Layer (type)                Output Shape              Param #   \n",
            "=================================================================\n",
            " embedding_5 (Embedding)     (None, 120, 16)           160000    \n",
            "                                                                 \n",
            " bidirectional_1 (Bidirectio  (None, 64)               9600      \n",
            " nal)                                                            \n",
            "                                                                 \n",
            " dense_6 (Dense)             (None, 6)                 390       \n",
            "                                                                 \n",
            " dense_7 (Dense)             (None, 1)                 7         \n",
            "                                                                 \n",
            "=================================================================\n",
            "Total params: 169,997\n",
            "Trainable params: 169,997\n",
            "Non-trainable params: 0\n",
            "_________________________________________________________________\n"
          ]
        }
      ]
    },
    {
      "cell_type": "code",
      "source": [
        "history_gru=model_gru.fit(padded,train_labels_final, batch_size=128, epochs=10, validation_data=(test_padded, test_labels_final))"
      ],
      "metadata": {
        "colab": {
          "base_uri": "https://localhost:8080/"
        },
        "id": "BUywAvOv8ynS",
        "outputId": "3151b2cd-af96-40d2-dcef-184d5b8ba85a"
      },
      "execution_count": null,
      "outputs": [
        {
          "output_type": "stream",
          "name": "stdout",
          "text": [
            "Epoch 1/10\n",
            "196/196 [==============================] - 38s 168ms/step - loss: 0.5981 - accuracy: 0.6389 - val_loss: 0.4258 - val_accuracy: 0.8050\n",
            "Epoch 2/10\n",
            "196/196 [==============================] - 32s 164ms/step - loss: 0.3216 - accuracy: 0.8666 - val_loss: 0.3891 - val_accuracy: 0.8286\n",
            "Epoch 3/10\n",
            "196/196 [==============================] - 31s 160ms/step - loss: 0.2365 - accuracy: 0.9105 - val_loss: 0.4102 - val_accuracy: 0.8193\n",
            "Epoch 4/10\n",
            "196/196 [==============================] - 31s 161ms/step - loss: 0.1901 - accuracy: 0.9311 - val_loss: 0.4613 - val_accuracy: 0.8112\n",
            "Epoch 5/10\n",
            "196/196 [==============================] - 32s 162ms/step - loss: 0.1445 - accuracy: 0.9494 - val_loss: 0.5944 - val_accuracy: 0.8017\n",
            "Epoch 6/10\n",
            "196/196 [==============================] - 32s 164ms/step - loss: 0.1147 - accuracy: 0.9613 - val_loss: 0.6423 - val_accuracy: 0.8069\n",
            "Epoch 7/10\n",
            "196/196 [==============================] - 31s 161ms/step - loss: 0.0944 - accuracy: 0.9678 - val_loss: 0.6776 - val_accuracy: 0.7946\n",
            "Epoch 8/10\n",
            "196/196 [==============================] - 31s 159ms/step - loss: 0.0662 - accuracy: 0.9799 - val_loss: 0.8030 - val_accuracy: 0.7925\n",
            "Epoch 9/10\n",
            "196/196 [==============================] - 31s 159ms/step - loss: 0.0505 - accuracy: 0.9839 - val_loss: 0.9464 - val_accuracy: 0.7898\n",
            "Epoch 10/10\n",
            "196/196 [==============================] - 32s 163ms/step - loss: 0.0432 - accuracy: 0.9860 - val_loss: 0.9673 - val_accuracy: 0.7854\n"
          ]
        }
      ]
    },
    {
      "cell_type": "code",
      "source": [
        "create_plot(history_gru,\"accuracy\")"
      ],
      "metadata": {
        "colab": {
          "base_uri": "https://localhost:8080/",
          "height": 281
        },
        "id": "WLt57cIu8_Pn",
        "outputId": "0b98f372-d9cf-4264-a4f4-6c6139c676cc"
      },
      "execution_count": null,
      "outputs": [
        {
          "output_type": "display_data",
          "data": {
            "text/plain": [
              "<Figure size 432x288 with 1 Axes>"
            ],
            "image/png": "[encoded data removed]"
          },
          "metadata": {
            "needs_background": "light"
          }
        }
      ]
    },
    {
      "cell_type": "code",
      "source": [
        "create_plot(history_gru,\"loss\")"
      ],
      "metadata": {
        "colab": {
          "base_uri": "https://localhost:8080/",
          "height": 280
        },
        "id": "fuYInF0C9B2d",
        "outputId": "b6328178-20a5-4b9c-b5ad-c6726ba85682"
      },
      "execution_count": null,
      "outputs": [
        {
          "output_type": "display_data",
          "data": {
            "text/plain": [
              "<Figure size 432x288 with 1 Axes>"
            ],
            "image/png": "[encoded data removed]"
          },
          "metadata": {
            "needs_background": "light"
          }
        }
      ]
    },
    {
      "cell_type": "markdown",
      "source": [
        "CONVOLUTION MODEL"
      ],
      "metadata": {
        "id": "os2xNrHU5euL"
      }
    },
    {
      "cell_type": "code",
      "source": [
        "#PARAMETERS\n",
        "embedding4=16\n",
        "filters=28\n",
        "kernel_size=5\n",
        "\n",
        "model_conv= tf.keras.Sequential([\n",
        "                                 tf.keras.layers.Embedding(vocab_size, embedding4, input_length=max_length),\n",
        "                                 tf.keras.layers.Conv1D(filters,kernel_size, activation=\"relu\"),\n",
        "                                 tf.keras.layers.GlobalAveragePooling1D(),\n",
        "                                 tf.keras.layers.Dense(6, activation=\"relu\"),\n",
        "                                 tf.keras.layers.Dense(1, activation=\"sigmoid\")])\n",
        "model_conv.compile(loss=\"binary_crossentropy\",\n",
        "                   optimizer=\"adam\",\n",
        "                   metrics=[\"accuracy\"])\n",
        "\n",
        "model_conv.summary()"
      ],
      "metadata": {
        "colab": {
          "base_uri": "https://localhost:8080/"
        },
        "id": "5sStRrzA9ZPc",
        "outputId": "35678278-8a2f-4a53-98f4-12a470d7ed63"
      },
      "execution_count": null,
      "outputs": [
        {
          "output_type": "stream",
          "name": "stdout",
          "text": [
            "Model: \"sequential_4\"\n",
            "_________________________________________________________________\n",
            " Layer (type)                Output Shape              Param #   \n",
            "=================================================================\n",
            " embedding_6 (Embedding)     (None, 120, 16)           160000    \n",
            "                                                                 \n",
            " conv1d (Conv1D)             (None, 116, 28)           2268      \n",
            "                                                                 \n",
            " global_average_pooling1d (G  (None, 28)               0         \n",
            " lobalAveragePooling1D)                                          \n",
            "                                                                 \n",
            " dense_8 (Dense)             (None, 6)                 174       \n",
            "                                                                 \n",
            " dense_9 (Dense)             (None, 1)                 7         \n",
            "                                                                 \n",
            "=================================================================\n",
            "Total params: 162,449\n",
            "Trainable params: 162,449\n",
            "Non-trainable params: 0\n",
            "_________________________________________________________________\n"
          ]
        }
      ]
    },
    {
      "cell_type": "code",
      "source": [
        "history_conv=model_conv.fit(padded,train_labels_final, batch_size=128, epochs=10, validation_data=(test_padded, test_labels_final))"
      ],
      "metadata": {
        "colab": {
          "base_uri": "https://localhost:8080/"
        },
        "id": "i8qPOA_p-D3V",
        "outputId": "765aa4a9-f178-408a-c567-206f8abc5ecb"
      },
      "execution_count": null,
      "outputs": [
        {
          "output_type": "stream",
          "name": "stdout",
          "text": [
            "Epoch 1/10\n",
            "196/196 [==============================] - 6s 25ms/step - loss: 0.5672 - accuracy: 0.7013 - val_loss: 0.4037 - val_accuracy: 0.8212\n",
            "Epoch 2/10\n",
            "196/196 [==============================] - 5s 24ms/step - loss: 0.3192 - accuracy: 0.8662 - val_loss: 0.3899 - val_accuracy: 0.8260\n",
            "Epoch 3/10\n",
            "196/196 [==============================] - 5s 24ms/step - loss: 0.2521 - accuracy: 0.9010 - val_loss: 0.3950 - val_accuracy: 0.8286\n",
            "Epoch 4/10\n",
            "196/196 [==============================] - 5s 24ms/step - loss: 0.2162 - accuracy: 0.9201 - val_loss: 0.4319 - val_accuracy: 0.8221\n",
            "Epoch 5/10\n",
            "196/196 [==============================] - 5s 24ms/step - loss: 0.1901 - accuracy: 0.9298 - val_loss: 0.4956 - val_accuracy: 0.8097\n",
            "Epoch 6/10\n",
            "196/196 [==============================] - 5s 25ms/step - loss: 0.1710 - accuracy: 0.9400 - val_loss: 0.5066 - val_accuracy: 0.8135\n",
            "Epoch 7/10\n",
            "196/196 [==============================] - 5s 24ms/step - loss: 0.1527 - accuracy: 0.9469 - val_loss: 0.5549 - val_accuracy: 0.8070\n",
            "Epoch 8/10\n",
            "196/196 [==============================] - 5s 24ms/step - loss: 0.1361 - accuracy: 0.9560 - val_loss: 0.6032 - val_accuracy: 0.8049\n",
            "Epoch 9/10\n",
            "196/196 [==============================] - 5s 24ms/step - loss: 0.1223 - accuracy: 0.9602 - val_loss: 0.6445 - val_accuracy: 0.8018\n",
            "Epoch 10/10\n",
            "196/196 [==============================] - 5s 24ms/step - loss: 0.1101 - accuracy: 0.9658 - val_loss: 0.7130 - val_accuracy: 0.7982\n"
          ]
        }
      ]
    },
    {
      "cell_type": "code",
      "source": [
        "create_plot(history_conv,\"accuracy\")"
      ],
      "metadata": {
        "id": "x2V3Rp6l-PNk"
      },
      "execution_count": null,
      "outputs": []
    },
    {
      "cell_type": "code",
      "source": [
        "create_plot(history_conv,\"loss\")"
      ],
      "metadata": {
        "id": "_WJcYqYQ-Q7y"
      },
      "execution_count": null,
      "outputs": []
    }
  ]
}